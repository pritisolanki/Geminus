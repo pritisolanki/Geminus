{
 "cells": [
  {
   "cell_type": "code",
   "execution_count": 1,
   "metadata": {},
   "outputs": [],
   "source": [
    "#all imports\n",
    "import carla #the sim library itself\n",
    "import random #to pick random spawn point\n",
    "import cv2 #to work with images from cameras\n",
    "import numpy as np #in this example to change image representation - re-shaping"
   ]
  },
  {
   "cell_type": "code",
   "execution_count": 2,
   "metadata": {},
   "outputs": [],
   "source": [
    "# connect to the sim \n",
    "client = carla.Client('localhost', 2000)"
   ]
  },
  {
   "cell_type": "code",
   "execution_count": 4,
   "metadata": {},
   "outputs": [
    {
     "data": {
      "text/plain": [
       "<carla.libcarla.World at 0x159f1a00a40>"
      ]
     },
     "execution_count": 4,
     "metadata": {},
     "output_type": "execute_result"
    }
   ],
   "source": [
    "# optional to load different towns\n",
    "#client.set_timeout(15)\n",
    "client.load_world('Town04')"
   ]
  },
  {
   "cell_type": "code",
   "execution_count": 3,
   "metadata": {},
   "outputs": [],
   "source": [
    "#define environment/world and get possible places to spawn a car\n",
    "world = client.get_world()\n",
    "spawn_points = world.get_map().get_spawn_points()"
   ]
  },
  {
   "cell_type": "code",
   "execution_count": 4,
   "metadata": {},
   "outputs": [],
   "source": [
    "#look for a blueprint of Mini car\n",
    "vehicle_bp = world.get_blueprint_library().filter('*mini*')"
   ]
  },
  {
   "cell_type": "code",
   "execution_count": 5,
   "metadata": {},
   "outputs": [],
   "source": [
    "#spawn a car in a random location\n",
    "\n",
    "start_point = spawn_points[0]\n",
    "vehicle = world.try_spawn_actor(vehicle_bp[0], start_point)\n"
   ]
  },
  {
   "cell_type": "code",
   "execution_count": 6,
   "metadata": {},
   "outputs": [],
   "source": [
    "# move simulator view to the car\n",
    "spectator = world.get_spectator()\n",
    "start_point.location.z = start_point.location.z+1 #start_point was used to spawn the car but we move 1m up to avoid being on the floor\n",
    "spectator.set_transform(start_point)"
   ]
  },
  {
   "cell_type": "code",
   "execution_count": 7,
   "metadata": {},
   "outputs": [],
   "source": [
    "#send the car off on autopilot - this will leave the spectator\n",
    "vehicle.set_autopilot(True)"
   ]
  },
  {
   "cell_type": "code",
   "execution_count": 8,
   "metadata": {},
   "outputs": [],
   "source": [
    "#setting RGB Camera - this follow the approach explained in a Carla video\n",
    "# link: https://www.youtube.com/watch?v=om8klsBj4rc&t=1184s\n",
    "\n",
    "#camera mount offset on the car - you can tweak these to each car to avoid any parts of the car being in the view\n",
    "CAMERA_POS_Z = 1.6 #this means 1.6m up from the ground\n",
    "CAMERA_POS_X = 0.9 #this is 0.9m forward\n",
    "\n",
    "camera_bp = world.get_blueprint_library().find('sensor.camera.rgb')\n",
    "camera_bp.set_attribute('image_size_x', '640') # this ratio works in CARLA 9.14 on Windows\n",
    "camera_bp.set_attribute('image_size_y', '360')\n",
    "\n",
    "camera_init_trans = carla.Transform(carla.Location(z=CAMERA_POS_Z,x=CAMERA_POS_X))\n",
    "#this creates the camera in the sim\n",
    "camera = world.spawn_actor(camera_bp,camera_init_trans,attach_to=vehicle)\n",
    "\n",
    "def camera_callback(image,data_dict):\n",
    "    data_dict['image'] = np.reshape(np.copy(image.raw_data),(image.height,image.width,4))\n",
    "\n",
    "image_w = camera_bp.get_attribute('image_size_x').as_int()\n",
    "image_h = camera_bp.get_attribute('image_size_y').as_int()\n",
    "\n",
    "camera_data = {'image': np.zeros((image_h,image_w,4))}\n",
    "# this actually opens a live stream from the camera\n",
    "camera.listen(lambda image: camera_callback(image,camera_data))"
   ]
  },
  {
   "cell_type": "code",
   "execution_count": 12,
   "metadata": {
    "scrolled": false
   },
   "outputs": [
    {
     "name": "stdout",
     "output_type": "stream",
     "text": [
      "Image saved successfully: captured_images_verify\\image_1.jpg\n",
      "Image saved successfully: captured_images_verify\\image_2.jpg\n",
      "Image saved successfully: captured_images_verify\\image_3.jpg\n",
      "Image saved successfully: captured_images_verify\\image_4.jpg\n",
      "Image saved successfully: captured_images_verify\\image_5.jpg\n",
      "Image saved successfully: captured_images_verify\\image_6.jpg\n",
      "Image saved successfully: captured_images_verify\\image_7.jpg\n",
      "Image saved successfully: captured_images_verify\\image_8.jpg\n",
      "Image saved successfully: captured_images_verify\\image_9.jpg\n",
      "Image saved successfully: captured_images_verify\\image_10.jpg\n",
      "Image saved successfully: captured_images_verify\\image_11.jpg\n",
      "Image saved successfully: captured_images_verify\\image_12.jpg\n",
      "Image saved successfully: captured_images_verify\\image_13.jpg\n",
      "Image saved successfully: captured_images_verify\\image_14.jpg\n",
      "Image saved successfully: captured_images_verify\\image_15.jpg\n",
      "Image saved successfully: captured_images_verify\\image_16.jpg\n",
      "Image saved successfully: captured_images_verify\\image_17.jpg\n",
      "Image saved successfully: captured_images_verify\\image_18.jpg\n",
      "Image saved successfully: captured_images_verify\\image_19.jpg\n",
      "Image saved successfully: captured_images_verify\\image_20.jpg\n",
      "Image saved successfully: captured_images_verify\\image_21.jpg\n",
      "Image saved successfully: captured_images_verify\\image_22.jpg\n",
      "Image saved successfully: captured_images_verify\\image_23.jpg\n",
      "Image saved successfully: captured_images_verify\\image_24.jpg\n",
      "Image saved successfully: captured_images_verify\\image_25.jpg\n",
      "Image saved successfully: captured_images_verify\\image_26.jpg\n",
      "Image saved successfully: captured_images_verify\\image_27.jpg\n",
      "Image saved successfully: captured_images_verify\\image_28.jpg\n",
      "Image saved successfully: captured_images_verify\\image_29.jpg\n",
      "Image saved successfully: captured_images_verify\\image_30.jpg\n",
      "Image saved successfully: captured_images_verify\\image_31.jpg\n",
      "Image saved successfully: captured_images_verify\\image_32.jpg\n",
      "Image saved successfully: captured_images_verify\\image_33.jpg\n",
      "Image saved successfully: captured_images_verify\\image_34.jpg\n",
      "Image saved successfully: captured_images_verify\\image_35.jpg\n",
      "Image saved successfully: captured_images_verify\\image_36.jpg\n",
      "Image saved successfully: captured_images_verify\\image_37.jpg\n",
      "Image saved successfully: captured_images_verify\\image_38.jpg\n",
      "Image saved successfully: captured_images_verify\\image_39.jpg\n",
      "Image saved successfully: captured_images_verify\\image_40.jpg\n",
      "Image saved successfully: captured_images_verify\\image_41.jpg\n",
      "Image saved successfully: captured_images_verify\\image_42.jpg\n",
      "Image saved successfully: captured_images_verify\\image_43.jpg\n",
      "Image saved successfully: captured_images_verify\\image_44.jpg\n",
      "Image saved successfully: captured_images_verify\\image_45.jpg\n",
      "Image saved successfully: captured_images_verify\\image_46.jpg\n",
      "Image saved successfully: captured_images_verify\\image_47.jpg\n",
      "Image saved successfully: captured_images_verify\\image_48.jpg\n",
      "Image saved successfully: captured_images_verify\\image_49.jpg\n",
      "Image saved successfully: captured_images_verify\\image_50.jpg\n",
      "Image saved successfully: captured_images_verify\\image_51.jpg\n",
      "Image saved successfully: captured_images_verify\\image_52.jpg\n",
      "Image saved successfully: captured_images_verify\\image_53.jpg\n",
      "Image saved successfully: captured_images_verify\\image_54.jpg\n",
      "Image saved successfully: captured_images_verify\\image_55.jpg\n",
      "Image saved successfully: captured_images_verify\\image_56.jpg\n",
      "Image saved successfully: captured_images_verify\\image_57.jpg\n",
      "Image saved successfully: captured_images_verify\\image_58.jpg\n",
      "Image saved successfully: captured_images_verify\\image_59.jpg\n",
      "Image saved successfully: captured_images_verify\\image_60.jpg\n",
      "Image saved successfully: captured_images_verify\\image_61.jpg\n",
      "Image saved successfully: captured_images_verify\\image_62.jpg\n",
      "Image saved successfully: captured_images_verify\\image_63.jpg\n",
      "Image saved successfully: captured_images_verify\\image_64.jpg\n",
      "Image saved successfully: captured_images_verify\\image_65.jpg\n",
      "Image saved successfully: captured_images_verify\\image_66.jpg\n",
      "Image saved successfully: captured_images_verify\\image_67.jpg\n",
      "Image saved successfully: captured_images_verify\\image_68.jpg\n",
      "Image saved successfully: captured_images_verify\\image_69.jpg\n",
      "Image saved successfully: captured_images_verify\\image_70.jpg\n",
      "Image saved successfully: captured_images_verify\\image_71.jpg\n",
      "Image saved successfully: captured_images_verify\\image_72.jpg\n",
      "Image saved successfully: captured_images_verify\\image_73.jpg\n",
      "Image saved successfully: captured_images_verify\\image_74.jpg\n",
      "Image saved successfully: captured_images_verify\\image_75.jpg\n",
      "Image saved successfully: captured_images_verify\\image_76.jpg\n",
      "Image saved successfully: captured_images_verify\\image_77.jpg\n",
      "Image saved successfully: captured_images_verify\\image_78.jpg\n",
      "Image saved successfully: captured_images_verify\\image_79.jpg\n",
      "Image saved successfully: captured_images_verify\\image_80.jpg\n",
      "Image saved successfully: captured_images_verify\\image_81.jpg\n",
      "Image saved successfully: captured_images_verify\\image_82.jpg\n",
      "Image saved successfully: captured_images_verify\\image_83.jpg\n",
      "Image saved successfully: captured_images_verify\\image_84.jpg\n",
      "Image saved successfully: captured_images_verify\\image_85.jpg\n",
      "Image saved successfully: captured_images_verify\\image_86.jpg\n",
      "Image saved successfully: captured_images_verify\\image_87.jpg\n",
      "Image saved successfully: captured_images_verify\\image_88.jpg\n",
      "Image saved successfully: captured_images_verify\\image_89.jpg\n",
      "Image saved successfully: captured_images_verify\\image_90.jpg\n",
      "Image saved successfully: captured_images_verify\\image_91.jpg\n",
      "Image saved successfully: captured_images_verify\\image_92.jpg\n",
      "Image saved successfully: captured_images_verify\\image_93.jpg\n",
      "Image saved successfully: captured_images_verify\\image_94.jpg\n",
      "Image saved successfully: captured_images_verify\\image_95.jpg\n",
      "Image saved successfully: captured_images_verify\\image_96.jpg\n",
      "Image saved successfully: captured_images_verify\\image_97.jpg\n",
      "Image saved successfully: captured_images_verify\\image_98.jpg\n",
      "Image saved successfully: captured_images_verify\\image_99.jpg\n",
      "Image saved successfully: captured_images_verify\\image_100.jpg\n",
      "Image saved successfully: captured_images_verify\\image_101.jpg\n",
      "Image saved successfully: captured_images_verify\\image_102.jpg\n",
      "Image saved successfully: captured_images_verify\\image_103.jpg\n",
      "Image saved successfully: captured_images_verify\\image_104.jpg\n",
      "Image saved successfully: captured_images_verify\\image_105.jpg\n",
      "Image saved successfully: captured_images_verify\\image_106.jpg\n",
      "Image saved successfully: captured_images_verify\\image_107.jpg\n",
      "Image saved successfully: captured_images_verify\\image_108.jpg\n",
      "Image saved successfully: captured_images_verify\\image_109.jpg\n",
      "Image saved successfully: captured_images_verify\\image_110.jpg\n",
      "Image saved successfully: captured_images_verify\\image_111.jpg\n",
      "Image saved successfully: captured_images_verify\\image_112.jpg\n",
      "Image saved successfully: captured_images_verify\\image_113.jpg\n",
      "Image saved successfully: captured_images_verify\\image_114.jpg\n",
      "Image saved successfully: captured_images_verify\\image_115.jpg\n",
      "Image saved successfully: captured_images_verify\\image_116.jpg\n",
      "Image saved successfully: captured_images_verify\\image_117.jpg\n",
      "Image saved successfully: captured_images_verify\\image_118.jpg\n",
      "Image saved successfully: captured_images_verify\\image_119.jpg\n",
      "Image saved successfully: captured_images_verify\\image_120.jpg\n",
      "Image saved successfully: captured_images_verify\\image_121.jpg\n",
      "Image saved successfully: captured_images_verify\\image_122.jpg\n",
      "Image saved successfully: captured_images_verify\\image_123.jpg\n",
      "Image saved successfully: captured_images_verify\\image_124.jpg\n",
      "Image saved successfully: captured_images_verify\\image_125.jpg\n",
      "Image saved successfully: captured_images_verify\\image_126.jpg\n",
      "Image saved successfully: captured_images_verify\\image_127.jpg\n",
      "Image saved successfully: captured_images_verify\\image_128.jpg\n"
     ]
    }
   ],
   "source": [
    "import cv2\n",
    "import os\n",
    "import time  # Import the time module\n",
    "\n",
    "# Create a folder to store the images if it doesn't exist\n",
    "folder_name = \"captured_images_verify\"\n",
    "if not os.path.exists(folder_name):\n",
    "    os.makedirs(folder_name)\n",
    "\n",
    "counter = 1  # Initialize counter for image naming\n",
    "\n",
    "while True:\n",
    "    # Assuming camera_data is being updated somewhere in the loop\n",
    "    # Display with imshow\n",
    "    cv2.imshow('All cameras', camera_data['image'])\n",
    "    \n",
    "    # Save the image\n",
    "    image_name = os.path.join(folder_name, f\"image_{counter}.jpg\")\n",
    "    cv2.imwrite(image_name, camera_data['image'])\n",
    "    \n",
    "    # Verify image received in terminal\n",
    "    if os.path.exists(image_name):\n",
    "        print(f\"Image saved successfully: {image_name}\")\n",
    "    else:\n",
    "        print(\"Error: Image not saved!\")\n",
    "    \n",
    "    # Increment counter\n",
    "    counter += 1\n",
    "    \n",
    "    # Break loop if user presses q\n",
    "    if cv2.waitKey(1) == ord('q'):\n",
    "        break\n",
    "\n",
    "cv2.destroyAllWindows()\n"
   ]
  },
  {
   "cell_type": "code",
   "execution_count": 9,
   "metadata": {},
   "outputs": [
    {
     "data": {
      "text/plain": [
       "-1"
      ]
     },
     "execution_count": 9,
     "metadata": {},
     "output_type": "execute_result"
    }
   ],
   "source": [
    "#grab a snapshot from the camera an show in a pop-up window\n",
    "img = camera_data['image']\n",
    "cv2.imshow('RGB Camera',img)\n",
    "cv2.waitKey(0)"
   ]
  },
  {
   "cell_type": "code",
   "execution_count": 10,
   "metadata": {},
   "outputs": [],
   "source": [
    "# clean up after yourself\n",
    "\n",
    "camera.stop() # this is the opposite of camera.listen\n",
    "for actor in world.get_actors().filter('*vehicle*'):\n",
    "    actor.destroy()\n",
    "for sensor in world.get_actors().filter('*sensor*'):\n",
    "    sensor.destroy()"
   ]
  },
  {
   "cell_type": "code",
   "execution_count": 7,
   "metadata": {},
   "outputs": [
    {
     "data": {
      "text/plain": [
       "10422"
      ]
     },
     "execution_count": 7,
     "metadata": {},
     "output_type": "execute_result"
    }
   ],
   "source": [
    "len(spawn_points)"
   ]
  },
  {
   "cell_type": "code",
   "execution_count": 8,
   "metadata": {},
   "outputs": [],
   "source": [
    "start_point = spawn_points[0]\n",
    "spectator = world.get_spectator()\n",
    "spectator.set_transform(start_point)"
   ]
  },
  {
   "cell_type": "code",
   "execution_count": 12,
   "metadata": {},
   "outputs": [],
   "source": [
    "spectator.set_transform(carla.Transform(carla.Location(x=-1085.286377, y=3112.225830, z=356.060608), carla.Rotation(pitch=1.648070, yaw=20.234367, roll=0.000000)))"
   ]
  },
  {
   "cell_type": "code",
   "execution_count": 11,
   "metadata": {},
   "outputs": [
    {
     "name": "stdout",
     "output_type": "stream",
     "text": [
      "Transform(Location(x=-1085.286377, y=3112.225830, z=356.060608), Rotation(pitch=1.648070, yaw=20.234367, roll=0.000000))\n"
     ]
    }
   ],
   "source": [
    "print(start_point)"
   ]
  },
  {
   "cell_type": "code",
   "execution_count": null,
   "metadata": {},
   "outputs": [],
   "source": []
  }
 ],
 "metadata": {
  "kernelspec": {
   "display_name": "Python 3 (ipykernel)",
   "language": "python",
   "name": "python3"
  },
  "language_info": {
   "codemirror_mode": {
    "name": "ipython",
    "version": 3
   },
   "file_extension": ".py",
   "mimetype": "text/x-python",
   "name": "python",
   "nbconvert_exporter": "python",
   "pygments_lexer": "ipython3",
   "version": "3.7.16"
  }
 },
 "nbformat": 4,
 "nbformat_minor": 2
}
