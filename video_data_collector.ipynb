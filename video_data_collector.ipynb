{
 "cells": [
  {
   "cell_type": "code",
   "execution_count": 14,
   "metadata": {},
   "outputs": [],
   "source": [
    "#all imports\n",
    "import carla #the sim library itself\n",
    "import random #to pick random spawn point\n",
    "import cv2 #to work with images from cameras\n",
    "import numpy as np #in this example to change image representation - re-shaping\n",
    "import os #to work for something related to joining path stuff\n",
    "import time#will use for delays later....FPS stuff"
   ]
  },
  {
   "cell_type": "code",
   "execution_count": 11,
   "metadata": {},
   "outputs": [],
   "source": [
    "# connect to the sim \n",
    "client = carla.Client('localhost', 2000)"
   ]
  },
  {
   "cell_type": "code",
   "execution_count": 12,
   "metadata": {},
   "outputs": [],
   "source": [
    "# Carla now connected"
   ]
  },
  {
   "cell_type": "code",
   "execution_count": 3,
   "metadata": {},
   "outputs": [],
   "source": [
    "#define environment/world and get possible places to spawn a car\n",
    "world = client.get_world()\n",
    "spawn_points = world.get_map().get_spawn_points()"
   ]
  },
  {
   "cell_type": "code",
   "execution_count": 4,
   "metadata": {},
   "outputs": [],
   "source": [
    "#look for a blueprint of Mini car\n",
    "vehicle_bp = world.get_blueprint_library().filter('*mini*')"
   ]
  },
  {
   "cell_type": "code",
   "execution_count": 5,
   "metadata": {},
   "outputs": [],
   "source": [
    "#spawn a car in a random location\n",
    "\n",
    "start_point = spawn_points[0]\n",
    "vehicle = world.try_spawn_actor(vehicle_bp[0], start_point)\n"
   ]
  },
  {
   "cell_type": "code",
   "execution_count": 6,
   "metadata": {},
   "outputs": [],
   "source": [
    "# move simulator view to the car\n",
    "spectator = world.get_spectator()\n",
    "start_point.location.z = start_point.location.z+1 #start_point was used to spawn the car but we move 1m up to avoid being on the floor\n",
    "spectator.set_transform(start_point)"
   ]
  },
  {
   "cell_type": "code",
   "execution_count": 7,
   "metadata": {},
   "outputs": [],
   "source": [
    "#send the car off on autopilot - this will leave the spectator\n",
    "vehicle.set_autopilot(True)"
   ]
  },
  {
   "cell_type": "code",
   "execution_count": 8,
   "metadata": {},
   "outputs": [],
   "source": [
    "# Define camera parameters\n",
    "CAMERA_POS_Z = 1.6\n",
    "CAMERA_POS_X = 0.9\n",
    "IMAGE_WIDTH = 1280  # Increased width\n",
    "IMAGE_HEIGHT = 720  # Increased height\n",
    "\n",
    "# Create camera blueprint\n",
    "camera_bp = world.get_blueprint_library().find('sensor.camera.rgb')\n",
    "camera_bp.set_attribute('image_size_x', str(IMAGE_WIDTH))\n",
    "camera_bp.set_attribute('image_size_y', str(IMAGE_HEIGHT))\n",
    "camera_bp.set_attribute('sensor_tick', '0.0')  # Set sensor tick to 0 to ensure it gets every frame\n",
    "\n",
    "# Define camera initial transform relative to the vehicle\n",
    "camera_relative_transform = carla.Transform(carla.Location(z=CAMERA_POS_Z, x=CAMERA_POS_X))\n",
    "\n",
    "# Spawn camera attached to the vehicle\n",
    "camera = world.spawn_actor(camera_bp, camera_relative_transform, attach_to=vehicle)\n",
    "\n",
    "# Callback function to process camera images\n",
    "def camera_callback(image, data_dict):\n",
    "    data_dict['image'] = np.reshape(np.copy(image.raw_data), (image.height, image.width, 4))\n",
    "\n",
    "# Initialize dictionary to store camera data\n",
    "camera_data = {'image': np.zeros((IMAGE_HEIGHT, IMAGE_WIDTH, 4), dtype=np.uint8)}\n",
    "\n",
    "# Set up video writer\n",
    "video_name = 'captured_video1.avi'\n",
    "fourcc = cv2.VideoWriter_fourcc(*'XVID')  # Use MP4V codec\n",
    "video_out = cv2.VideoWriter(video_name, fourcc, 20.0, (IMAGE_WIDTH, IMAGE_HEIGHT))\n",
    "\n",
    "# Start listening to camera\n",
    "camera.listen(lambda image: camera_callback(image, camera_data))\n",
    "\n",
    "try:\n",
    "    while True:\n",
    "        # Display the image\n",
    "        cv2.imshow('Video Stream', camera_data['image'])\n",
    "\n",
    "        # Convert RGBA to BGR\n",
    "        bgr_image = cv2.cvtColor(camera_data['image'], cv2.COLOR_RGBA2RGB)\n",
    "\n",
    "        # Write frame to video\n",
    "        video_out.write(bgr_image)\n",
    "\n",
    "        # Break loop if 'q' is pressed\n",
    "        if cv2.waitKey(1) & 0xFF == ord('q'):\n",
    "            break\n",
    "finally:\n",
    "    # Clean up\n",
    "    video_out.release()\n",
    "    cv2.destroyAllWindows()\n"
   ]
  },
  {
   "cell_type": "code",
   "execution_count": null,
   "metadata": {},
   "outputs": [],
   "source": []
  },
  {
   "cell_type": "code",
   "execution_count": null,
   "metadata": {},
   "outputs": [],
   "source": []
  },
  {
   "cell_type": "code",
   "execution_count": null,
   "metadata": {},
   "outputs": [],
   "source": []
  },
  {
   "cell_type": "code",
   "execution_count": null,
   "metadata": {},
   "outputs": [],
   "source": []
  },
  {
   "cell_type": "code",
   "execution_count": null,
   "metadata": {},
   "outputs": [],
   "source": []
  },
  {
   "cell_type": "code",
   "execution_count": null,
   "metadata": {},
   "outputs": [],
   "source": []
  },
  {
   "cell_type": "code",
   "execution_count": null,
   "metadata": {},
   "outputs": [],
   "source": []
  },
  {
   "cell_type": "code",
   "execution_count": 17,
   "metadata": {},
   "outputs": [],
   "source": []
  },
  {
   "cell_type": "code",
   "execution_count": null,
   "metadata": {},
   "outputs": [],
   "source": []
  }
 ],
 "metadata": {
  "kernelspec": {
   "display_name": "Python 3 (ipykernel)",
   "language": "python",
   "name": "python3"
  },
  "language_info": {
   "codemirror_mode": {
    "name": "ipython",
    "version": 3
   },
   "file_extension": ".py",
   "mimetype": "text/x-python",
   "name": "python",
   "nbconvert_exporter": "python",
   "pygments_lexer": "ipython3",
   "version": "3.7.16"
  }
 },
 "nbformat": 4,
 "nbformat_minor": 2
}
